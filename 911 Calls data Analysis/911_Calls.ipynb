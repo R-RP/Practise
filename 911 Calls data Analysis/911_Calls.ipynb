{
  "nbformat": 4,
  "nbformat_minor": 0,
  "metadata": {
    "kernelspec": {
      "display_name": "Python 3",
      "language": "python",
      "name": "python3"
    },
    "language_info": {
      "codemirror_mode": {
        "name": "ipython",
        "version": 3
      },
      "file_extension": ".py",
      "mimetype": "text/x-python",
      "name": "python",
      "nbconvert_exporter": "python",
      "pygments_lexer": "ipython3",
      "version": "3.5.1"
    },
    "colab": {
      "name": "911 Calls.ipynb",
      "provenance": [],
      "collapsed_sections": [],
      "toc_visible": true
    }
  },
  "cells": [
    {
      "cell_type": "markdown",
      "metadata": {
        "id": "kXquxUyoJCmt",
        "colab_type": "text"
      },
      "source": [
        "# 911 Calls Project"
      ]
    },
    {
      "cell_type": "markdown",
      "metadata": {
        "id": "jcw26IRkJCnH",
        "colab_type": "text"
      },
      "source": [
        "## Data"
      ]
    },
    {
      "cell_type": "code",
      "metadata": {
        "id": "MQZBimRkJCnc",
        "colab_type": "code",
        "colab": {}
      },
      "source": [
        "import numpy as np\n",
        "import pandas as pd"
      ],
      "execution_count": 14,
      "outputs": []
    },
    {
      "cell_type": "code",
      "metadata": {
        "id": "L-ymGHP1JCow",
        "colab_type": "code",
        "colab": {}
      },
      "source": [
        "import matplotlib.pyplot as plt\n",
        "import seaborn as sns\n",
        "sns.set_style('whitegrid')\n",
        "%matplotlib inline"
      ],
      "execution_count": 15,
      "outputs": []
    },
    {
      "cell_type": "code",
      "metadata": {
        "id": "RH5FQPHDJCpY",
        "colab_type": "code",
        "colab": {}
      },
      "source": [
        "df = pd.read_csv('911.csv')"
      ],
      "execution_count": 16,
      "outputs": []
    },
    {
      "cell_type": "code",
      "metadata": {
        "id": "gJ1sbBPHJCp8",
        "colab_type": "code",
        "colab": {
          "base_uri": "https://localhost:8080/",
          "height": 301
        },
        "outputId": "1fa66396-10d7-4945-ef32-1e6b55812ac1"
      },
      "source": [
        "df.info()"
      ],
      "execution_count": 17,
      "outputs": [
        {
          "output_type": "stream",
          "text": [
            "<class 'pandas.core.frame.DataFrame'>\n",
            "RangeIndex: 99492 entries, 0 to 99491\n",
            "Data columns (total 9 columns):\n",
            " #   Column     Non-Null Count  Dtype  \n",
            "---  ------     --------------  -----  \n",
            " 0   lat        99492 non-null  float64\n",
            " 1   lng        99492 non-null  float64\n",
            " 2   desc       99492 non-null  object \n",
            " 3   zip        86637 non-null  float64\n",
            " 4   title      99492 non-null  object \n",
            " 5   timeStamp  99492 non-null  object \n",
            " 6   twp        99449 non-null  object \n",
            " 7   addr       98973 non-null  object \n",
            " 8   e          99492 non-null  int64  \n",
            "dtypes: float64(3), int64(1), object(5)\n",
            "memory usage: 6.8+ MB\n"
          ],
          "name": "stdout"
        }
      ]
    },
    {
      "cell_type": "code",
      "metadata": {
        "id": "WC_q7dXZJCqy",
        "colab_type": "code",
        "colab": {
          "base_uri": "https://localhost:8080/",
          "height": 237
        },
        "outputId": "34a1d97b-439d-4f15-d1eb-33baf2598e77"
      },
      "source": [
        "df.head(3)"
      ],
      "execution_count": 18,
      "outputs": [
        {
          "output_type": "execute_result",
          "data": {
            "text/html": [
              "<div>\n",
              "<style scoped>\n",
              "    .dataframe tbody tr th:only-of-type {\n",
              "        vertical-align: middle;\n",
              "    }\n",
              "\n",
              "    .dataframe tbody tr th {\n",
              "        vertical-align: top;\n",
              "    }\n",
              "\n",
              "    .dataframe thead th {\n",
              "        text-align: right;\n",
              "    }\n",
              "</style>\n",
              "<table border=\"1\" class=\"dataframe\">\n",
              "  <thead>\n",
              "    <tr style=\"text-align: right;\">\n",
              "      <th></th>\n",
              "      <th>lat</th>\n",
              "      <th>lng</th>\n",
              "      <th>desc</th>\n",
              "      <th>zip</th>\n",
              "      <th>title</th>\n",
              "      <th>timeStamp</th>\n",
              "      <th>twp</th>\n",
              "      <th>addr</th>\n",
              "      <th>e</th>\n",
              "    </tr>\n",
              "  </thead>\n",
              "  <tbody>\n",
              "    <tr>\n",
              "      <th>0</th>\n",
              "      <td>40.297876</td>\n",
              "      <td>-75.581294</td>\n",
              "      <td>REINDEER CT &amp; DEAD END;  NEW HANOVER; Station ...</td>\n",
              "      <td>19525.0</td>\n",
              "      <td>EMS: BACK PAINS/INJURY</td>\n",
              "      <td>2015-12-10 17:40:00</td>\n",
              "      <td>NEW HANOVER</td>\n",
              "      <td>REINDEER CT &amp; DEAD END</td>\n",
              "      <td>1</td>\n",
              "    </tr>\n",
              "    <tr>\n",
              "      <th>1</th>\n",
              "      <td>40.258061</td>\n",
              "      <td>-75.264680</td>\n",
              "      <td>BRIAR PATH &amp; WHITEMARSH LN;  HATFIELD TOWNSHIP...</td>\n",
              "      <td>19446.0</td>\n",
              "      <td>EMS: DIABETIC EMERGENCY</td>\n",
              "      <td>2015-12-10 17:40:00</td>\n",
              "      <td>HATFIELD TOWNSHIP</td>\n",
              "      <td>BRIAR PATH &amp; WHITEMARSH LN</td>\n",
              "      <td>1</td>\n",
              "    </tr>\n",
              "    <tr>\n",
              "      <th>2</th>\n",
              "      <td>40.121182</td>\n",
              "      <td>-75.351975</td>\n",
              "      <td>HAWS AVE; NORRISTOWN; 2015-12-10 @ 14:39:21-St...</td>\n",
              "      <td>19401.0</td>\n",
              "      <td>Fire: GAS-ODOR/LEAK</td>\n",
              "      <td>2015-12-10 17:40:00</td>\n",
              "      <td>NORRISTOWN</td>\n",
              "      <td>HAWS AVE</td>\n",
              "      <td>1</td>\n",
              "    </tr>\n",
              "  </tbody>\n",
              "</table>\n",
              "</div>"
            ],
            "text/plain": [
              "         lat        lng  ...                        addr  e\n",
              "0  40.297876 -75.581294  ...      REINDEER CT & DEAD END  1\n",
              "1  40.258061 -75.264680  ...  BRIAR PATH & WHITEMARSH LN  1\n",
              "2  40.121182 -75.351975  ...                    HAWS AVE  1\n",
              "\n",
              "[3 rows x 9 columns]"
            ]
          },
          "metadata": {
            "tags": []
          },
          "execution_count": 18
        }
      ]
    },
    {
      "cell_type": "markdown",
      "metadata": {
        "id": "4e38vVm5JCrT",
        "colab_type": "text"
      },
      "source": [
        "# Top 5 zipcodes for 911 calls \n",
        "\n"
      ]
    },
    {
      "cell_type": "code",
      "metadata": {
        "id": "AjiSxBNuJCrW",
        "colab_type": "code",
        "colab": {
          "base_uri": "https://localhost:8080/",
          "height": 123
        },
        "outputId": "ee231cee-891a-4977-8893-900125ff39d9"
      },
      "source": [
        "df['zip'].value_counts().head(5)"
      ],
      "execution_count": 19,
      "outputs": [
        {
          "output_type": "execute_result",
          "data": {
            "text/plain": [
              "19401.0    6979\n",
              "19464.0    6643\n",
              "19403.0    4854\n",
              "19446.0    4748\n",
              "19406.0    3174\n",
              "Name: zip, dtype: int64"
            ]
          },
          "metadata": {
            "tags": []
          },
          "execution_count": 19
        }
      ]
    },
    {
      "cell_type": "markdown",
      "metadata": {
        "id": "9f6p2SV5JCrt",
        "colab_type": "text"
      },
      "source": [
        "# Top 5 townships (twp) for 911 calls"
      ]
    },
    {
      "cell_type": "code",
      "metadata": {
        "id": "NHI4rVq8JCrx",
        "colab_type": "code",
        "colab": {
          "base_uri": "https://localhost:8080/",
          "height": 123
        },
        "outputId": "fc58d50b-2c3d-4e11-f26b-6153d3c19984"
      },
      "source": [
        "df['twp'].value_counts().head(5)"
      ],
      "execution_count": 20,
      "outputs": [
        {
          "output_type": "execute_result",
          "data": {
            "text/plain": [
              "LOWER MERION    8443\n",
              "ABINGTON        5977\n",
              "NORRISTOWN      5890\n",
              "UPPER MERION    5227\n",
              "CHELTENHAM      4575\n",
              "Name: twp, dtype: int64"
            ]
          },
          "metadata": {
            "tags": []
          },
          "execution_count": 20
        }
      ]
    },
    {
      "cell_type": "markdown",
      "metadata": {
        "id": "KVN0SPkOJCsD",
        "colab_type": "text"
      },
      "source": [
        "# unique title codes "
      ]
    },
    {
      "cell_type": "code",
      "metadata": {
        "id": "2No4z01SJCsG",
        "colab_type": "code",
        "colab": {
          "base_uri": "https://localhost:8080/",
          "height": 34
        },
        "outputId": "9f0a72e9-880d-46d7-bacc-3cbf5c9fec46"
      },
      "source": [
        "df['title'].nunique()"
      ],
      "execution_count": 21,
      "outputs": [
        {
          "output_type": "execute_result",
          "data": {
            "text/plain": [
              "110"
            ]
          },
          "metadata": {
            "tags": []
          },
          "execution_count": 21
        }
      ]
    },
    {
      "cell_type": "markdown",
      "metadata": {
        "id": "hO8CKR85JCsZ",
        "colab_type": "text"
      },
      "source": [
        "## Creating new features"
      ]
    },
    {
      "cell_type": "markdown",
      "metadata": {
        "id": "7HDfi-xUJCsc",
        "colab_type": "text"
      },
      "source": [
        "** In the titles column there are \"Reasons/Departments\" specified before the title code. These are EMS, Fire, and Traffic.create a new column called \"Reason\" that contains this string value.** \n",
        "\n",
        "**For example, if the title column value is EMS: BACK PAINS/INJURY , the Reason column value would be EMS. **"
      ]
    },
    {
      "cell_type": "code",
      "metadata": {
        "id": "2Xx-p3JlJCsf",
        "colab_type": "code",
        "colab": {}
      },
      "source": [
        "df['Reason'] = df['title'].apply(lambda x: x.split(':')[0])"
      ],
      "execution_count": 22,
      "outputs": []
    },
    {
      "cell_type": "markdown",
      "metadata": {
        "id": "-A8sRpeMJCs1",
        "colab_type": "text"
      },
      "source": [
        "The most common Reason for a 911 call**"
      ]
    },
    {
      "cell_type": "code",
      "metadata": {
        "id": "YiWzWErcJCs4",
        "colab_type": "code",
        "colab": {
          "base_uri": "https://localhost:8080/",
          "height": 87
        },
        "outputId": "03cf19f8-a032-45f1-b857-6a25e73a5945"
      },
      "source": [
        "df['Reason'].value_counts()"
      ],
      "execution_count": 23,
      "outputs": [
        {
          "output_type": "execute_result",
          "data": {
            "text/plain": [
              "EMS        48877\n",
              "Traffic    35695\n",
              "Fire       14920\n",
              "Name: Reason, dtype: int64"
            ]
          },
          "metadata": {
            "tags": []
          },
          "execution_count": 23
        }
      ]
    },
    {
      "cell_type": "markdown",
      "metadata": {
        "id": "AnOFFYwMJCtP",
        "colab_type": "text"
      },
      "source": [
        "** Visualize 911 calls by Reason. **"
      ]
    },
    {
      "cell_type": "code",
      "metadata": {
        "id": "nQrjyAHNJCtR",
        "colab_type": "code",
        "colab": {
          "base_uri": "https://localhost:8080/",
          "height": 296
        },
        "outputId": "0095d532-38ca-4061-a016-35c90291e05f"
      },
      "source": [
        "sns.countplot(x='Reason',data=df,palette='viridis')"
      ],
      "execution_count": 24,
      "outputs": [
        {
          "output_type": "execute_result",
          "data": {
            "text/plain": [
              "<matplotlib.axes._subplots.AxesSubplot at 0x7f53775959b0>"
            ]
          },
          "metadata": {
            "tags": []
          },
          "execution_count": 24
        },
        {
          "output_type": "display_data",
          "data": {
            "image/png": "[encoded data removed]",
            "text/plain": [
              "<Figure size 432x288 with 1 Axes>"
            ]
          },
          "metadata": {
            "tags": [],
            "needs_background": "light"
          }
        }
      ]
    },
    {
      "cell_type": "markdown",
      "metadata": {
        "id": "4_8h99bvJCtj",
        "colab_type": "text"
      },
      "source": [
        "## Create 3 new columns called Hour, Month, and Day of Week. create these columns based off of the timeStamp column"
      ]
    },
    {
      "cell_type": "code",
      "metadata": {
        "id": "iRnHXLOgJCtm",
        "colab_type": "code",
        "colab": {
          "base_uri": "https://localhost:8080/",
          "height": 34
        },
        "outputId": "421b87db-6142-470e-f181-8fce7cea9461"
      },
      "source": [
        "type(df['timeStamp'].iloc[0])"
      ],
      "execution_count": 25,
      "outputs": [
        {
          "output_type": "execute_result",
          "data": {
            "text/plain": [
              "str"
            ]
          },
          "metadata": {
            "tags": []
          },
          "execution_count": 25
        }
      ]
    },
    {
      "cell_type": "code",
      "metadata": {
        "id": "YL-e0lmLJCuL",
        "colab_type": "code",
        "colab": {}
      },
      "source": [
        "df['timeStamp'] = pd.to_datetime(df['timeStamp'])"
      ],
      "execution_count": 26,
      "outputs": []
    },
    {
      "cell_type": "code",
      "metadata": {
        "id": "PY8Gx5QIJCuv",
        "colab_type": "code",
        "colab": {}
      },
      "source": [
        "df['Hour'] = df['timeStamp'].apply(lambda time: time.hour)\n",
        "df['Month'] = df['timeStamp'].apply(lambda time: time.month)\n",
        "df['Day of Week'] = df['timeStamp'].apply(lambda time: time.dayofweek)"
      ],
      "execution_count": 27,
      "outputs": []
    },
    {
      "cell_type": "code",
      "metadata": {
        "id": "ketZ1HtiJCva",
        "colab_type": "code",
        "colab": {}
      },
      "source": [
        "dmap = {0:'Mon',1:'Tue',2:'Wed',3:'Thu',4:'Fri',5:'Sat',6:'Sun'}"
      ],
      "execution_count": 28,
      "outputs": []
    },
    {
      "cell_type": "code",
      "metadata": {
        "id": "bEPiqOh9JCvv",
        "colab_type": "code",
        "colab": {}
      },
      "source": [
        "df['Day of Week'] = df['Day of Week'].map(dmap)"
      ],
      "execution_count": 29,
      "outputs": []
    },
    {
      "cell_type": "markdown",
      "metadata": {
        "collapsed": false,
        "id": "heCgWpJ2JCwF",
        "colab_type": "text"
      },
      "source": [
        "** Visualize 'Reason' distribution for every day of the week and monthly basis **"
      ]
    },
    {
      "cell_type": "code",
      "metadata": {
        "id": "WzO6BivxJCwK",
        "colab_type": "code",
        "colab": {
          "base_uri": "https://localhost:8080/",
          "height": 296
        },
        "outputId": "187394fd-6711-4b02-f473-40f53cd2cab5"
      },
      "source": [
        "sns.countplot(x='Day of Week',data=df,hue='Reason',palette='viridis')\n",
        "\n",
        "plt.legend(bbox_to_anchor=(1.05, 1), loc=2, borderaxespad=0.)"
      ],
      "execution_count": 30,
      "outputs": [
        {
          "output_type": "execute_result",
          "data": {
            "text/plain": [
              "<matplotlib.legend.Legend at 0x7f5378f99780>"
            ]
          },
          "metadata": {
            "tags": []
          },
          "execution_count": 30
        },
        {
          "output_type": "display_data",
          "data": {
            "image/png": "[encoded data removed]",
            "text/plain": [
              "<Figure size 432x288 with 1 Axes>"
            ]
          },
          "metadata": {
            "tags": [],
            "needs_background": "light"
          }
        }
      ]
    },
    {
      "cell_type": "code",
      "metadata": {
        "id": "1i2-x-tyJCwf",
        "colab_type": "code",
        "colab": {
          "base_uri": "https://localhost:8080/",
          "height": 296
        },
        "outputId": "c888009e-c0c6-4489-ad10-fee603b02305"
      },
      "source": [
        "sns.countplot(x='Month',data=df,hue='Reason',palette='viridis')\n",
        "\n",
        "plt.legend(bbox_to_anchor=(1.05, 1), loc=2, borderaxespad=0.)"
      ],
      "execution_count": 31,
      "outputs": [
        {
          "output_type": "execute_result",
          "data": {
            "text/plain": [
              "<matplotlib.legend.Legend at 0x7f5377058ac8>"
            ]
          },
          "metadata": {
            "tags": []
          },
          "execution_count": 31
        },
        {
          "output_type": "display_data",
          "data": {
            "image/png": "[encoded data removed]",
            "text/plain": [
              "<Figure size 432x288 with 1 Axes>"
            ]
          },
          "metadata": {
            "tags": [],
            "needs_background": "light"
          }
        }
      ]
    },
    {
      "cell_type": "markdown",
      "metadata": {
        "id": "07GdXCYTJCxX",
        "colab_type": "text"
      },
      "source": [
        "** plot for count of calls per month. **"
      ]
    },
    {
      "cell_type": "code",
      "metadata": {
        "id": "YRNDyhgAJCxD",
        "colab_type": "code",
        "colab": {
          "base_uri": "https://localhost:8080/",
          "height": 227
        },
        "outputId": "b88a4b44-bb49-436b-9e8c-47f0be3a3361"
      },
      "source": [
        "byMonth = df.groupby('Month').count()\n",
        "byMonth.head()"
      ],
      "execution_count": 32,
      "outputs": [
        {
          "output_type": "execute_result",
          "data": {
            "text/html": [
              "<div>\n",
              "<style scoped>\n",
              "    .dataframe tbody tr th:only-of-type {\n",
              "        vertical-align: middle;\n",
              "    }\n",
              "\n",
              "    .dataframe tbody tr th {\n",
              "        vertical-align: top;\n",
              "    }\n",
              "\n",
              "    .dataframe thead th {\n",
              "        text-align: right;\n",
              "    }\n",
              "</style>\n",
              "<table border=\"1\" class=\"dataframe\">\n",
              "  <thead>\n",
              "    <tr style=\"text-align: right;\">\n",
              "      <th></th>\n",
              "      <th>lat</th>\n",
              "      <th>lng</th>\n",
              "      <th>desc</th>\n",
              "      <th>zip</th>\n",
              "      <th>title</th>\n",
              "      <th>timeStamp</th>\n",
              "      <th>twp</th>\n",
              "      <th>addr</th>\n",
              "      <th>e</th>\n",
              "      <th>Reason</th>\n",
              "      <th>Hour</th>\n",
              "      <th>Day of Week</th>\n",
              "    </tr>\n",
              "    <tr>\n",
              "      <th>Month</th>\n",
              "      <th></th>\n",
              "      <th></th>\n",
              "      <th></th>\n",
              "      <th></th>\n",
              "      <th></th>\n",
              "      <th></th>\n",
              "      <th></th>\n",
              "      <th></th>\n",
              "      <th></th>\n",
              "      <th></th>\n",
              "      <th></th>\n",
              "      <th></th>\n",
              "    </tr>\n",
              "  </thead>\n",
              "  <tbody>\n",
              "    <tr>\n",
              "      <th>1</th>\n",
              "      <td>13205</td>\n",
              "      <td>13205</td>\n",
              "      <td>13205</td>\n",
              "      <td>11527</td>\n",
              "      <td>13205</td>\n",
              "      <td>13205</td>\n",
              "      <td>13203</td>\n",
              "      <td>13096</td>\n",
              "      <td>13205</td>\n",
              "      <td>13205</td>\n",
              "      <td>13205</td>\n",
              "      <td>13205</td>\n",
              "    </tr>\n",
              "    <tr>\n",
              "      <th>2</th>\n",
              "      <td>11467</td>\n",
              "      <td>11467</td>\n",
              "      <td>11467</td>\n",
              "      <td>9930</td>\n",
              "      <td>11467</td>\n",
              "      <td>11467</td>\n",
              "      <td>11465</td>\n",
              "      <td>11396</td>\n",
              "      <td>11467</td>\n",
              "      <td>11467</td>\n",
              "      <td>11467</td>\n",
              "      <td>11467</td>\n",
              "    </tr>\n",
              "    <tr>\n",
              "      <th>3</th>\n",
              "      <td>11101</td>\n",
              "      <td>11101</td>\n",
              "      <td>11101</td>\n",
              "      <td>9755</td>\n",
              "      <td>11101</td>\n",
              "      <td>11101</td>\n",
              "      <td>11092</td>\n",
              "      <td>11059</td>\n",
              "      <td>11101</td>\n",
              "      <td>11101</td>\n",
              "      <td>11101</td>\n",
              "      <td>11101</td>\n",
              "    </tr>\n",
              "    <tr>\n",
              "      <th>4</th>\n",
              "      <td>11326</td>\n",
              "      <td>11326</td>\n",
              "      <td>11326</td>\n",
              "      <td>9895</td>\n",
              "      <td>11326</td>\n",
              "      <td>11326</td>\n",
              "      <td>11323</td>\n",
              "      <td>11283</td>\n",
              "      <td>11326</td>\n",
              "      <td>11326</td>\n",
              "      <td>11326</td>\n",
              "      <td>11326</td>\n",
              "    </tr>\n",
              "    <tr>\n",
              "      <th>5</th>\n",
              "      <td>11423</td>\n",
              "      <td>11423</td>\n",
              "      <td>11423</td>\n",
              "      <td>9946</td>\n",
              "      <td>11423</td>\n",
              "      <td>11423</td>\n",
              "      <td>11420</td>\n",
              "      <td>11378</td>\n",
              "      <td>11423</td>\n",
              "      <td>11423</td>\n",
              "      <td>11423</td>\n",
              "      <td>11423</td>\n",
              "    </tr>\n",
              "  </tbody>\n",
              "</table>\n",
              "</div>"
            ],
            "text/plain": [
              "         lat    lng   desc    zip  ...      e  Reason   Hour  Day of Week\n",
              "Month                              ...                                   \n",
              "1      13205  13205  13205  11527  ...  13205   13205  13205        13205\n",
              "2      11467  11467  11467   9930  ...  11467   11467  11467        11467\n",
              "3      11101  11101  11101   9755  ...  11101   11101  11101        11101\n",
              "4      11326  11326  11326   9895  ...  11326   11326  11326        11326\n",
              "5      11423  11423  11423   9946  ...  11423   11423  11423        11423\n",
              "\n",
              "[5 rows x 12 columns]"
            ]
          },
          "metadata": {
            "tags": []
          },
          "execution_count": 32
        }
      ]
    },
    {
      "cell_type": "code",
      "metadata": {
        "id": "FKriehG6JCxa",
        "colab_type": "code",
        "colab": {
          "base_uri": "https://localhost:8080/",
          "height": 296
        },
        "outputId": "5162557c-5388-493b-ec7f-9870e1597e57"
      },
      "source": [
        "# Could be any column\n",
        "byMonth['twp'].plot()"
      ],
      "execution_count": 33,
      "outputs": [
        {
          "output_type": "execute_result",
          "data": {
            "text/plain": [
              "<matplotlib.axes._subplots.AxesSubplot at 0x7f5376f0c828>"
            ]
          },
          "metadata": {
            "tags": []
          },
          "execution_count": 33
        },
        {
          "output_type": "display_data",
          "data": {
            "image/png": "[encoded data removed]",
            "text/plain": [
              "<Figure size 432x288 with 1 Axes>"
            ]
          },
          "metadata": {
            "tags": [],
            "needs_background": "light"
          }
        }
      ]
    },
    {
      "cell_type": "markdown",
      "metadata": {
        "collapsed": false,
        "id": "g7-VTkoGJC0p",
        "colab_type": "text"
      },
      "source": [
        "Heatmap to Visualise the call counts based on \"month vs day of the week\" and \"day of the week vs hour of the day\"."
      ]
    },
    {
      "cell_type": "code",
      "metadata": {
        "id": "21oQf6e0JC0Y",
        "colab_type": "code",
        "colab": {
          "base_uri": "https://localhost:8080/",
          "height": 281
        },
        "outputId": "8e81d4ea-9eee-4c07-ab7d-906e1dad6b8f"
      },
      "source": [
        "dayHour = df.groupby(by=['Day of Week','Hour']).count()['Reason'].unstack()\n",
        "dayHour.head()"
      ],
      "execution_count": 35,
      "outputs": [
        {
          "output_type": "execute_result",
          "data": {
            "text/html": [
              "<div>\n",
              "<style scoped>\n",
              "    .dataframe tbody tr th:only-of-type {\n",
              "        vertical-align: middle;\n",
              "    }\n",
              "\n",
              "    .dataframe tbody tr th {\n",
              "        vertical-align: top;\n",
              "    }\n",
              "\n",
              "    .dataframe thead th {\n",
              "        text-align: right;\n",
              "    }\n",
              "</style>\n",
              "<table border=\"1\" class=\"dataframe\">\n",
              "  <thead>\n",
              "    <tr style=\"text-align: right;\">\n",
              "      <th>Hour</th>\n",
              "      <th>0</th>\n",
              "      <th>1</th>\n",
              "      <th>2</th>\n",
              "      <th>3</th>\n",
              "      <th>4</th>\n",
              "      <th>5</th>\n",
              "      <th>6</th>\n",
              "      <th>7</th>\n",
              "      <th>8</th>\n",
              "      <th>9</th>\n",
              "      <th>10</th>\n",
              "      <th>11</th>\n",
              "      <th>12</th>\n",
              "      <th>13</th>\n",
              "      <th>14</th>\n",
              "      <th>15</th>\n",
              "      <th>16</th>\n",
              "      <th>17</th>\n",
              "      <th>18</th>\n",
              "      <th>19</th>\n",
              "      <th>20</th>\n",
              "      <th>21</th>\n",
              "      <th>22</th>\n",
              "      <th>23</th>\n",
              "    </tr>\n",
              "    <tr>\n",
              "      <th>Day of Week</th>\n",
              "      <th></th>\n",
              "      <th></th>\n",
              "      <th></th>\n",
              "      <th></th>\n",
              "      <th></th>\n",
              "      <th></th>\n",
              "      <th></th>\n",
              "      <th></th>\n",
              "      <th></th>\n",
              "      <th></th>\n",
              "      <th></th>\n",
              "      <th></th>\n",
              "      <th></th>\n",
              "      <th></th>\n",
              "      <th></th>\n",
              "      <th></th>\n",
              "      <th></th>\n",
              "      <th></th>\n",
              "      <th></th>\n",
              "      <th></th>\n",
              "      <th></th>\n",
              "      <th></th>\n",
              "      <th></th>\n",
              "      <th></th>\n",
              "    </tr>\n",
              "  </thead>\n",
              "  <tbody>\n",
              "    <tr>\n",
              "      <th>Fri</th>\n",
              "      <td>275</td>\n",
              "      <td>235</td>\n",
              "      <td>191</td>\n",
              "      <td>175</td>\n",
              "      <td>201</td>\n",
              "      <td>194</td>\n",
              "      <td>372</td>\n",
              "      <td>598</td>\n",
              "      <td>742</td>\n",
              "      <td>752</td>\n",
              "      <td>803</td>\n",
              "      <td>859</td>\n",
              "      <td>885</td>\n",
              "      <td>890</td>\n",
              "      <td>932</td>\n",
              "      <td>980</td>\n",
              "      <td>1039</td>\n",
              "      <td>980</td>\n",
              "      <td>820</td>\n",
              "      <td>696</td>\n",
              "      <td>667</td>\n",
              "      <td>559</td>\n",
              "      <td>514</td>\n",
              "      <td>474</td>\n",
              "    </tr>\n",
              "    <tr>\n",
              "      <th>Mon</th>\n",
              "      <td>282</td>\n",
              "      <td>221</td>\n",
              "      <td>201</td>\n",
              "      <td>194</td>\n",
              "      <td>204</td>\n",
              "      <td>267</td>\n",
              "      <td>397</td>\n",
              "      <td>653</td>\n",
              "      <td>819</td>\n",
              "      <td>786</td>\n",
              "      <td>793</td>\n",
              "      <td>822</td>\n",
              "      <td>893</td>\n",
              "      <td>842</td>\n",
              "      <td>869</td>\n",
              "      <td>913</td>\n",
              "      <td>989</td>\n",
              "      <td>997</td>\n",
              "      <td>885</td>\n",
              "      <td>746</td>\n",
              "      <td>613</td>\n",
              "      <td>497</td>\n",
              "      <td>472</td>\n",
              "      <td>325</td>\n",
              "    </tr>\n",
              "    <tr>\n",
              "      <th>Sat</th>\n",
              "      <td>375</td>\n",
              "      <td>301</td>\n",
              "      <td>263</td>\n",
              "      <td>260</td>\n",
              "      <td>224</td>\n",
              "      <td>231</td>\n",
              "      <td>257</td>\n",
              "      <td>391</td>\n",
              "      <td>459</td>\n",
              "      <td>640</td>\n",
              "      <td>697</td>\n",
              "      <td>769</td>\n",
              "      <td>801</td>\n",
              "      <td>831</td>\n",
              "      <td>789</td>\n",
              "      <td>796</td>\n",
              "      <td>848</td>\n",
              "      <td>757</td>\n",
              "      <td>778</td>\n",
              "      <td>696</td>\n",
              "      <td>628</td>\n",
              "      <td>572</td>\n",
              "      <td>506</td>\n",
              "      <td>467</td>\n",
              "    </tr>\n",
              "    <tr>\n",
              "      <th>Sun</th>\n",
              "      <td>383</td>\n",
              "      <td>306</td>\n",
              "      <td>286</td>\n",
              "      <td>268</td>\n",
              "      <td>242</td>\n",
              "      <td>240</td>\n",
              "      <td>300</td>\n",
              "      <td>402</td>\n",
              "      <td>483</td>\n",
              "      <td>620</td>\n",
              "      <td>643</td>\n",
              "      <td>693</td>\n",
              "      <td>771</td>\n",
              "      <td>679</td>\n",
              "      <td>684</td>\n",
              "      <td>691</td>\n",
              "      <td>663</td>\n",
              "      <td>714</td>\n",
              "      <td>670</td>\n",
              "      <td>655</td>\n",
              "      <td>537</td>\n",
              "      <td>461</td>\n",
              "      <td>415</td>\n",
              "      <td>330</td>\n",
              "    </tr>\n",
              "    <tr>\n",
              "      <th>Thu</th>\n",
              "      <td>278</td>\n",
              "      <td>202</td>\n",
              "      <td>233</td>\n",
              "      <td>159</td>\n",
              "      <td>182</td>\n",
              "      <td>203</td>\n",
              "      <td>362</td>\n",
              "      <td>570</td>\n",
              "      <td>777</td>\n",
              "      <td>828</td>\n",
              "      <td>837</td>\n",
              "      <td>773</td>\n",
              "      <td>889</td>\n",
              "      <td>936</td>\n",
              "      <td>876</td>\n",
              "      <td>969</td>\n",
              "      <td>935</td>\n",
              "      <td>1013</td>\n",
              "      <td>810</td>\n",
              "      <td>698</td>\n",
              "      <td>617</td>\n",
              "      <td>553</td>\n",
              "      <td>424</td>\n",
              "      <td>354</td>\n",
              "    </tr>\n",
              "  </tbody>\n",
              "</table>\n",
              "</div>"
            ],
            "text/plain": [
              "Hour          0    1    2    3    4    5   ...   18   19   20   21   22   23\n",
              "Day of Week                                ...                              \n",
              "Fri          275  235  191  175  201  194  ...  820  696  667  559  514  474\n",
              "Mon          282  221  201  194  204  267  ...  885  746  613  497  472  325\n",
              "Sat          375  301  263  260  224  231  ...  778  696  628  572  506  467\n",
              "Sun          383  306  286  268  242  240  ...  670  655  537  461  415  330\n",
              "Thu          278  202  233  159  182  203  ...  810  698  617  553  424  354\n",
              "\n",
              "[5 rows x 24 columns]"
            ]
          },
          "metadata": {
            "tags": []
          },
          "execution_count": 35
        }
      ]
    },
    {
      "cell_type": "code",
      "metadata": {
        "id": "2-queS3kJC0r",
        "colab_type": "code",
        "colab": {
          "base_uri": "https://localhost:8080/",
          "height": 405
        },
        "outputId": "7a45c668-80e3-4526-d8f6-9147ecf3322e"
      },
      "source": [
        "plt.figure(figsize=(12,6))\n",
        "sns.heatmap(dayHour,cmap='viridis')"
      ],
      "execution_count": 36,
      "outputs": [
        {
          "output_type": "execute_result",
          "data": {
            "text/plain": [
              "<matplotlib.axes._subplots.AxesSubplot at 0x7f5377058668>"
            ]
          },
          "metadata": {
            "tags": []
          },
          "execution_count": 36
        },
        {
          "output_type": "display_data",
          "data": {
            "image/png": "[encoded data removed]",
            "text/plain": [
              "<Figure size 864x432 with 2 Axes>"
            ]
          },
          "metadata": {
            "tags": [],
            "needs_background": "light"
          }
        }
      ]
    },
    {
      "cell_type": "code",
      "metadata": {
        "id": "9WZws3m_JC1P",
        "colab_type": "code",
        "colab": {
          "base_uri": "https://localhost:8080/",
          "height": 227
        },
        "outputId": "56049cb2-7889-4667-ca5e-25a73befce85"
      },
      "source": [
        "dayMonth = df.groupby(by=['Day of Week','Month']).count()['Reason'].unstack()\n",
        "dayMonth.head()"
      ],
      "execution_count": 37,
      "outputs": [
        {
          "output_type": "execute_result",
          "data": {
            "text/html": [
              "<div>\n",
              "<style scoped>\n",
              "    .dataframe tbody tr th:only-of-type {\n",
              "        vertical-align: middle;\n",
              "    }\n",
              "\n",
              "    .dataframe tbody tr th {\n",
              "        vertical-align: top;\n",
              "    }\n",
              "\n",
              "    .dataframe thead th {\n",
              "        text-align: right;\n",
              "    }\n",
              "</style>\n",
              "<table border=\"1\" class=\"dataframe\">\n",
              "  <thead>\n",
              "    <tr style=\"text-align: right;\">\n",
              "      <th>Month</th>\n",
              "      <th>1</th>\n",
              "      <th>2</th>\n",
              "      <th>3</th>\n",
              "      <th>4</th>\n",
              "      <th>5</th>\n",
              "      <th>6</th>\n",
              "      <th>7</th>\n",
              "      <th>8</th>\n",
              "      <th>12</th>\n",
              "    </tr>\n",
              "    <tr>\n",
              "      <th>Day of Week</th>\n",
              "      <th></th>\n",
              "      <th></th>\n",
              "      <th></th>\n",
              "      <th></th>\n",
              "      <th></th>\n",
              "      <th></th>\n",
              "      <th></th>\n",
              "      <th></th>\n",
              "      <th></th>\n",
              "    </tr>\n",
              "  </thead>\n",
              "  <tbody>\n",
              "    <tr>\n",
              "      <th>Fri</th>\n",
              "      <td>1970</td>\n",
              "      <td>1581</td>\n",
              "      <td>1525</td>\n",
              "      <td>1958</td>\n",
              "      <td>1730</td>\n",
              "      <td>1649</td>\n",
              "      <td>2045</td>\n",
              "      <td>1310</td>\n",
              "      <td>1065</td>\n",
              "    </tr>\n",
              "    <tr>\n",
              "      <th>Mon</th>\n",
              "      <td>1727</td>\n",
              "      <td>1964</td>\n",
              "      <td>1535</td>\n",
              "      <td>1598</td>\n",
              "      <td>1779</td>\n",
              "      <td>1617</td>\n",
              "      <td>1692</td>\n",
              "      <td>1511</td>\n",
              "      <td>1257</td>\n",
              "    </tr>\n",
              "    <tr>\n",
              "      <th>Sat</th>\n",
              "      <td>2291</td>\n",
              "      <td>1441</td>\n",
              "      <td>1266</td>\n",
              "      <td>1734</td>\n",
              "      <td>1444</td>\n",
              "      <td>1388</td>\n",
              "      <td>1695</td>\n",
              "      <td>1099</td>\n",
              "      <td>978</td>\n",
              "    </tr>\n",
              "    <tr>\n",
              "      <th>Sun</th>\n",
              "      <td>1960</td>\n",
              "      <td>1229</td>\n",
              "      <td>1102</td>\n",
              "      <td>1488</td>\n",
              "      <td>1424</td>\n",
              "      <td>1333</td>\n",
              "      <td>1672</td>\n",
              "      <td>1021</td>\n",
              "      <td>907</td>\n",
              "    </tr>\n",
              "    <tr>\n",
              "      <th>Thu</th>\n",
              "      <td>1584</td>\n",
              "      <td>1596</td>\n",
              "      <td>1900</td>\n",
              "      <td>1601</td>\n",
              "      <td>1590</td>\n",
              "      <td>2065</td>\n",
              "      <td>1646</td>\n",
              "      <td>1230</td>\n",
              "      <td>1266</td>\n",
              "    </tr>\n",
              "  </tbody>\n",
              "</table>\n",
              "</div>"
            ],
            "text/plain": [
              "Month          1     2     3     4     5     6     7     8     12\n",
              "Day of Week                                                      \n",
              "Fri          1970  1581  1525  1958  1730  1649  2045  1310  1065\n",
              "Mon          1727  1964  1535  1598  1779  1617  1692  1511  1257\n",
              "Sat          2291  1441  1266  1734  1444  1388  1695  1099   978\n",
              "Sun          1960  1229  1102  1488  1424  1333  1672  1021   907\n",
              "Thu          1584  1596  1900  1601  1590  2065  1646  1230  1266"
            ]
          },
          "metadata": {
            "tags": []
          },
          "execution_count": 37
        }
      ]
    },
    {
      "cell_type": "code",
      "metadata": {
        "id": "ogGCB80aJC1b",
        "colab_type": "code",
        "colab": {
          "base_uri": "https://localhost:8080/",
          "height": 405
        },
        "outputId": "254ba51f-8880-4e2d-cffe-b303e28b263a"
      },
      "source": [
        "plt.figure(figsize=(12,6))\n",
        "sns.heatmap(dayMonth,cmap='viridis')"
      ],
      "execution_count": 38,
      "outputs": [
        {
          "output_type": "execute_result",
          "data": {
            "text/plain": [
              "<matplotlib.axes._subplots.AxesSubplot at 0x7f537701f198>"
            ]
          },
          "metadata": {
            "tags": []
          },
          "execution_count": 38
        },
        {
          "output_type": "display_data",
          "data": {
            "image/png": "[encoded data removed]",
            "text/plain": [
              "<Figure size 864x432 with 2 Axes>"
            ]
          },
          "metadata": {
            "tags": [],
            "needs_background": "light"
          }
        }
      ]
    }
  ]
}