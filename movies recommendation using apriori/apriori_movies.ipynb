{
  "nbformat": 4,
  "nbformat_minor": 0,
  "metadata": {
    "colab": {
      "name": "apriori_movies.ipynb",
      "provenance": [],
      "collapsed_sections": []
    },
    "kernelspec": {
      "name": "python3",
      "display_name": "Python 3"
    }
  },
  "cells": [
    {
      "cell_type": "code",
      "metadata": {
        "id": "xF3P6hhluaAv",
        "colab_type": "code",
        "colab": {}
      },
      "source": [
        "import pandas as pd\n",
        "import numpy as np\n",
        "import seaborn as sns\n",
        "%matplotlib inline"
      ],
      "execution_count": 89,
      "outputs": []
    },
    {
      "cell_type": "code",
      "metadata": {
        "id": "_BykFtEI279-",
        "colab_type": "code",
        "colab": {
          "base_uri": "https://localhost:8080/",
          "height": 34
        },
        "outputId": "a15a8335-5ab9-4b14-eef3-41b38b53ef8a"
      },
      "source": [
        "!pip install apyori\n"
      ],
      "execution_count": 90,
      "outputs": [
        {
          "output_type": "stream",
          "text": [
            "Requirement already satisfied: apyori in /usr/local/lib/python3.6/dist-packages (1.1.2)\n"
          ],
          "name": "stdout"
        }
      ]
    },
    {
      "cell_type": "code",
      "metadata": {
        "id": "fyp9etPZvA-Z",
        "colab_type": "code",
        "colab": {}
      },
      "source": [
        "df = pd.read_csv('u.data',sep='\\t',names=['user_id','item_id','ratings','time'])"
      ],
      "execution_count": 91,
      "outputs": []
    },
    {
      "cell_type": "code",
      "metadata": {
        "id": "t5OL8coIvY5O",
        "colab_type": "code",
        "colab": {
          "base_uri": "https://localhost:8080/",
          "height": 204
        },
        "outputId": "6a317298-2258-40c6-f195-cc2593df12da"
      },
      "source": [
        "df.head()"
      ],
      "execution_count": 92,
      "outputs": [
        {
          "output_type": "execute_result",
          "data": {
            "text/html": [
              "<div>\n",
              "<style scoped>\n",
              "    .dataframe tbody tr th:only-of-type {\n",
              "        vertical-align: middle;\n",
              "    }\n",
              "\n",
              "    .dataframe tbody tr th {\n",
              "        vertical-align: top;\n",
              "    }\n",
              "\n",
              "    .dataframe thead th {\n",
              "        text-align: right;\n",
              "    }\n",
              "</style>\n",
              "<table border=\"1\" class=\"dataframe\">\n",
              "  <thead>\n",
              "    <tr style=\"text-align: right;\">\n",
              "      <th></th>\n",
              "      <th>user_id</th>\n",
              "      <th>item_id</th>\n",
              "      <th>ratings</th>\n",
              "      <th>time</th>\n",
              "    </tr>\n",
              "  </thead>\n",
              "  <tbody>\n",
              "    <tr>\n",
              "      <th>0</th>\n",
              "      <td>0</td>\n",
              "      <td>50</td>\n",
              "      <td>5</td>\n",
              "      <td>881250949</td>\n",
              "    </tr>\n",
              "    <tr>\n",
              "      <th>1</th>\n",
              "      <td>0</td>\n",
              "      <td>172</td>\n",
              "      <td>5</td>\n",
              "      <td>881250949</td>\n",
              "    </tr>\n",
              "    <tr>\n",
              "      <th>2</th>\n",
              "      <td>0</td>\n",
              "      <td>133</td>\n",
              "      <td>1</td>\n",
              "      <td>881250949</td>\n",
              "    </tr>\n",
              "    <tr>\n",
              "      <th>3</th>\n",
              "      <td>196</td>\n",
              "      <td>242</td>\n",
              "      <td>3</td>\n",
              "      <td>881250949</td>\n",
              "    </tr>\n",
              "    <tr>\n",
              "      <th>4</th>\n",
              "      <td>186</td>\n",
              "      <td>302</td>\n",
              "      <td>3</td>\n",
              "      <td>891717742</td>\n",
              "    </tr>\n",
              "  </tbody>\n",
              "</table>\n",
              "</div>"
            ],
            "text/plain": [
              "   user_id  item_id  ratings       time\n",
              "0        0       50        5  881250949\n",
              "1        0      172        5  881250949\n",
              "2        0      133        1  881250949\n",
              "3      196      242        3  881250949\n",
              "4      186      302        3  891717742"
            ]
          },
          "metadata": {
            "tags": []
          },
          "execution_count": 92
        }
      ]
    },
    {
      "cell_type": "code",
      "metadata": {
        "id": "5EwXVKvM01Li",
        "colab_type": "code",
        "colab": {}
      },
      "source": [
        "movie_titles = pd.read_csv(\"Movie_Id_Titles\")"
      ],
      "execution_count": 93,
      "outputs": []
    },
    {
      "cell_type": "code",
      "metadata": {
        "id": "eCGiA6123GMj",
        "colab_type": "code",
        "colab": {
          "base_uri": "https://localhost:8080/",
          "height": 204
        },
        "outputId": "d7f651fc-52e6-40df-b2a8-04f11ae2f6a4"
      },
      "source": [
        "movie_titles.head()"
      ],
      "execution_count": 94,
      "outputs": [
        {
          "output_type": "execute_result",
          "data": {
            "text/html": [
              "<div>\n",
              "<style scoped>\n",
              "    .dataframe tbody tr th:only-of-type {\n",
              "        vertical-align: middle;\n",
              "    }\n",
              "\n",
              "    .dataframe tbody tr th {\n",
              "        vertical-align: top;\n",
              "    }\n",
              "\n",
              "    .dataframe thead th {\n",
              "        text-align: right;\n",
              "    }\n",
              "</style>\n",
              "<table border=\"1\" class=\"dataframe\">\n",
              "  <thead>\n",
              "    <tr style=\"text-align: right;\">\n",
              "      <th></th>\n",
              "      <th>item_id</th>\n",
              "      <th>title</th>\n",
              "    </tr>\n",
              "  </thead>\n",
              "  <tbody>\n",
              "    <tr>\n",
              "      <th>0</th>\n",
              "      <td>1</td>\n",
              "      <td>Toy Story (1995)</td>\n",
              "    </tr>\n",
              "    <tr>\n",
              "      <th>1</th>\n",
              "      <td>2</td>\n",
              "      <td>GoldenEye (1995)</td>\n",
              "    </tr>\n",
              "    <tr>\n",
              "      <th>2</th>\n",
              "      <td>3</td>\n",
              "      <td>Four Rooms (1995)</td>\n",
              "    </tr>\n",
              "    <tr>\n",
              "      <th>3</th>\n",
              "      <td>4</td>\n",
              "      <td>Get Shorty (1995)</td>\n",
              "    </tr>\n",
              "    <tr>\n",
              "      <th>4</th>\n",
              "      <td>5</td>\n",
              "      <td>Copycat (1995)</td>\n",
              "    </tr>\n",
              "  </tbody>\n",
              "</table>\n",
              "</div>"
            ],
            "text/plain": [
              "   item_id              title\n",
              "0        1   Toy Story (1995)\n",
              "1        2   GoldenEye (1995)\n",
              "2        3  Four Rooms (1995)\n",
              "3        4  Get Shorty (1995)\n",
              "4        5     Copycat (1995)"
            ]
          },
          "metadata": {
            "tags": []
          },
          "execution_count": 94
        }
      ]
    },
    {
      "cell_type": "code",
      "metadata": {
        "id": "Hzbb4Z0t3Om0",
        "colab_type": "code",
        "colab": {
          "base_uri": "https://localhost:8080/",
          "height": 204
        },
        "outputId": "4e30d5a6-256b-47ef-b4b2-925c236ec7b4"
      },
      "source": [
        "df = pd.merge(df,movie_titles,on='item_id')\n",
        "df.head()"
      ],
      "execution_count": 95,
      "outputs": [
        {
          "output_type": "execute_result",
          "data": {
            "text/html": [
              "<div>\n",
              "<style scoped>\n",
              "    .dataframe tbody tr th:only-of-type {\n",
              "        vertical-align: middle;\n",
              "    }\n",
              "\n",
              "    .dataframe tbody tr th {\n",
              "        vertical-align: top;\n",
              "    }\n",
              "\n",
              "    .dataframe thead th {\n",
              "        text-align: right;\n",
              "    }\n",
              "</style>\n",
              "<table border=\"1\" class=\"dataframe\">\n",
              "  <thead>\n",
              "    <tr style=\"text-align: right;\">\n",
              "      <th></th>\n",
              "      <th>user_id</th>\n",
              "      <th>item_id</th>\n",
              "      <th>ratings</th>\n",
              "      <th>time</th>\n",
              "      <th>title</th>\n",
              "    </tr>\n",
              "  </thead>\n",
              "  <tbody>\n",
              "    <tr>\n",
              "      <th>0</th>\n",
              "      <td>0</td>\n",
              "      <td>50</td>\n",
              "      <td>5</td>\n",
              "      <td>881250949</td>\n",
              "      <td>Star Wars (1977)</td>\n",
              "    </tr>\n",
              "    <tr>\n",
              "      <th>1</th>\n",
              "      <td>290</td>\n",
              "      <td>50</td>\n",
              "      <td>5</td>\n",
              "      <td>880473582</td>\n",
              "      <td>Star Wars (1977)</td>\n",
              "    </tr>\n",
              "    <tr>\n",
              "      <th>2</th>\n",
              "      <td>79</td>\n",
              "      <td>50</td>\n",
              "      <td>4</td>\n",
              "      <td>891271545</td>\n",
              "      <td>Star Wars (1977)</td>\n",
              "    </tr>\n",
              "    <tr>\n",
              "      <th>3</th>\n",
              "      <td>2</td>\n",
              "      <td>50</td>\n",
              "      <td>5</td>\n",
              "      <td>888552084</td>\n",
              "      <td>Star Wars (1977)</td>\n",
              "    </tr>\n",
              "    <tr>\n",
              "      <th>4</th>\n",
              "      <td>8</td>\n",
              "      <td>50</td>\n",
              "      <td>5</td>\n",
              "      <td>879362124</td>\n",
              "      <td>Star Wars (1977)</td>\n",
              "    </tr>\n",
              "  </tbody>\n",
              "</table>\n",
              "</div>"
            ],
            "text/plain": [
              "   user_id  item_id  ratings       time             title\n",
              "0        0       50        5  881250949  Star Wars (1977)\n",
              "1      290       50        5  880473582  Star Wars (1977)\n",
              "2       79       50        4  891271545  Star Wars (1977)\n",
              "3        2       50        5  888552084  Star Wars (1977)\n",
              "4        8       50        5  879362124  Star Wars (1977)"
            ]
          },
          "metadata": {
            "tags": []
          },
          "execution_count": 95
        }
      ]
    },
    {
      "cell_type": "code",
      "metadata": {
        "id": "hT9MYBY93Mm4",
        "colab_type": "code",
        "colab": {
          "base_uri": "https://localhost:8080/",
          "height": 238
        },
        "outputId": "edb15417-2007-421e-dcbe-a61016c3ff64"
      },
      "source": [
        "df.groupby('user_id')['title'].count()"
      ],
      "execution_count": 96,
      "outputs": [
        {
          "output_type": "execute_result",
          "data": {
            "text/plain": [
              "user_id\n",
              "0        3\n",
              "1      272\n",
              "2       62\n",
              "3       54\n",
              "4       24\n",
              "      ... \n",
              "939     49\n",
              "940    107\n",
              "941     22\n",
              "942     79\n",
              "943    168\n",
              "Name: title, Length: 944, dtype: int64"
            ]
          },
          "metadata": {
            "tags": []
          },
          "execution_count": 96
        }
      ]
    },
    {
      "cell_type": "code",
      "metadata": {
        "id": "Y-Sfp5S_38Qj",
        "colab_type": "code",
        "colab": {}
      },
      "source": [
        "user_watchlist=[]\n",
        "for i in df['user_id']:\n",
        "  user = df[df['user_id']==i]['title']\n",
        "  user_watchlist.append(user.astype(str).values.tolist())\n"
      ],
      "execution_count": 97,
      "outputs": []
    },
    {
      "cell_type": "code",
      "metadata": {
        "id": "usUtSC-17XAe",
        "colab_type": "code",
        "colab": {
          "base_uri": "https://localhost:8080/",
          "height": 68
        },
        "outputId": "a664c471-0276-4dd6-a138-d4d89073cbcd"
      },
      "source": [
        "user_watchlist[0]"
      ],
      "execution_count": 98,
      "outputs": [
        {
          "output_type": "execute_result",
          "data": {
            "text/plain": [
              "['Star Wars (1977)',\n",
              " 'Empire Strikes Back, The (1980)',\n",
              " 'Gone with the Wind (1939)']"
            ]
          },
          "metadata": {
            "tags": []
          },
          "execution_count": 98
        }
      ]
    },
    {
      "cell_type": "code",
      "metadata": {
        "id": "L3HBwBH-3w7R",
        "colab_type": "code",
        "colab": {}
      },
      "source": [
        "from apyori import apriori\n",
        "rules = apriori(transactions = user_watchlist, min_support = 0.1, min_confidence = 0.25, min_lift = 3, min_length = 2, max_length = 2)"
      ],
      "execution_count": 99,
      "outputs": []
    },
    {
      "cell_type": "code",
      "metadata": {
        "id": "3VQ6itin_ked",
        "colab_type": "code",
        "colab": {
          "base_uri": "https://localhost:8080/",
          "height": 34
        },
        "outputId": "1c0e52b2-e45c-4103-e329-adb534d10a29"
      },
      "source": [
        "rules"
      ],
      "execution_count": 100,
      "outputs": [
        {
          "output_type": "execute_result",
          "data": {
            "text/plain": [
              "<generator object apriori at 0x7fea423ec830>"
            ]
          },
          "metadata": {
            "tags": []
          },
          "execution_count": 100
        }
      ]
    },
    {
      "cell_type": "code",
      "metadata": {
        "id": "IzXi6Spm-446",
        "colab_type": "code",
        "colab": {}
      },
      "source": [
        "results = list(rules)"
      ],
      "execution_count": 101,
      "outputs": []
    },
    {
      "cell_type": "code",
      "metadata": {
        "id": "9bRwKcf-E4t0",
        "colab_type": "code",
        "colab": {
          "base_uri": "https://localhost:8080/",
          "height": 34
        },
        "outputId": "f5d1afe6-f92c-40c0-f1af-8259d8ab8f21"
      },
      "source": [
        "len(results)"
      ],
      "execution_count": 102,
      "outputs": [
        {
          "output_type": "execute_result",
          "data": {
            "text/plain": [
              "79"
            ]
          },
          "metadata": {
            "tags": []
          },
          "execution_count": 102
        }
      ]
    },
    {
      "cell_type": "code",
      "metadata": {
        "id": "y_5tp0d6BT9b",
        "colab_type": "code",
        "colab": {}
      },
      "source": [
        "def inspect(results):\n",
        "    lhs         = [tuple(result[2][0][0])[0] for result in results]\n",
        "    rhs         = [tuple(result[2][0][1])[0] for result in results]\n",
        "    supports    = [result[1] for result in results]\n",
        "    confidences = [result[2][0][2] for result in results]\n",
        "    lifts       = [result[2][0][3] for result in results]\n",
        "    return list(zip(lhs, rhs, supports, confidences, lifts))\n",
        "resultsinDataFrame = pd.DataFrame(inspect(results), columns = ['Left Hand Side', 'Right Hand Side', 'Support', 'Confidence', 'Lift'])"
      ],
      "execution_count": 103,
      "outputs": []
    },
    {
      "cell_type": "code",
      "metadata": {
        "id": "V2UquR2UBYB_",
        "colab_type": "code",
        "colab": {
          "base_uri": "https://localhost:8080/",
          "height": 419
        },
        "outputId": "5e9630b0-52be-4f40-e5de-00686689d03f"
      },
      "source": [
        "resultsinDataFrame"
      ],
      "execution_count": 104,
      "outputs": [
        {
          "output_type": "execute_result",
          "data": {
            "text/html": [
              "<div>\n",
              "<style scoped>\n",
              "    .dataframe tbody tr th:only-of-type {\n",
              "        vertical-align: middle;\n",
              "    }\n",
              "\n",
              "    .dataframe tbody tr th {\n",
              "        vertical-align: top;\n",
              "    }\n",
              "\n",
              "    .dataframe thead th {\n",
              "        text-align: right;\n",
              "    }\n",
              "</style>\n",
              "<table border=\"1\" class=\"dataframe\">\n",
              "  <thead>\n",
              "    <tr style=\"text-align: right;\">\n",
              "      <th></th>\n",
              "      <th>Left Hand Side</th>\n",
              "      <th>Right Hand Side</th>\n",
              "      <th>Support</th>\n",
              "      <th>Confidence</th>\n",
              "      <th>Lift</th>\n",
              "    </tr>\n",
              "  </thead>\n",
              "  <tbody>\n",
              "    <tr>\n",
              "      <th>0</th>\n",
              "      <td>Ace Ventura: Pet Detective (1994)</td>\n",
              "      <td>Dumb &amp; Dumber (1994)</td>\n",
              "      <td>0.152305</td>\n",
              "      <td>0.585853</td>\n",
              "      <td>3.225981</td>\n",
              "    </tr>\n",
              "    <tr>\n",
              "      <th>1</th>\n",
              "      <td>Ace Ventura: Pet Detective (1994)</td>\n",
              "      <td>Hot Shots! Part Deux (1993)</td>\n",
              "      <td>0.159855</td>\n",
              "      <td>0.614893</td>\n",
              "      <td>3.235527</td>\n",
              "    </tr>\n",
              "    <tr>\n",
              "      <th>2</th>\n",
              "      <td>Ace Ventura: Pet Detective (1994)</td>\n",
              "      <td>Robin Hood: Men in Tights (1993)</td>\n",
              "      <td>0.111387</td>\n",
              "      <td>0.428456</td>\n",
              "      <td>3.033623</td>\n",
              "    </tr>\n",
              "    <tr>\n",
              "      <th>3</th>\n",
              "      <td>Ace Ventura: Pet Detective (1994)</td>\n",
              "      <td>Tommy Boy (1995)</td>\n",
              "      <td>0.136946</td>\n",
              "      <td>0.526771</td>\n",
              "      <td>3.051715</td>\n",
              "    </tr>\n",
              "    <tr>\n",
              "      <th>4</th>\n",
              "      <td>Addams Family Values (1993)</td>\n",
              "      <td>Hot Shots! Part Deux (1993)</td>\n",
              "      <td>0.133536</td>\n",
              "      <td>0.586396</td>\n",
              "      <td>3.085576</td>\n",
              "    </tr>\n",
              "    <tr>\n",
              "      <th>...</th>\n",
              "      <td>...</td>\n",
              "      <td>...</td>\n",
              "      <td>...</td>\n",
              "      <td>...</td>\n",
              "      <td>...</td>\n",
              "    </tr>\n",
              "    <tr>\n",
              "      <th>74</th>\n",
              "      <td>Star Trek V: The Final Frontier (1989)</td>\n",
              "      <td>Star Trek: The Motion Picture (1979)</td>\n",
              "      <td>0.127786</td>\n",
              "      <td>0.876475</td>\n",
              "      <td>3.352205</td>\n",
              "    </tr>\n",
              "    <tr>\n",
              "      <th>75</th>\n",
              "      <td>Three Colors: Blue (1993)</td>\n",
              "      <td>Three Colors: Red (1994)</td>\n",
              "      <td>0.128796</td>\n",
              "      <td>0.895066</td>\n",
              "      <td>5.001916</td>\n",
              "    </tr>\n",
              "    <tr>\n",
              "      <th>76</th>\n",
              "      <td>Three Colors: Blue (1993)</td>\n",
              "      <td>Three Colors: White (1994)</td>\n",
              "      <td>0.113197</td>\n",
              "      <td>0.786657</td>\n",
              "      <td>5.395987</td>\n",
              "    </tr>\n",
              "    <tr>\n",
              "      <th>77</th>\n",
              "      <td>Three Colors: Red (1994)</td>\n",
              "      <td>Three Colors: White (1994)</td>\n",
              "      <td>0.129596</td>\n",
              "      <td>0.724225</td>\n",
              "      <td>4.967737</td>\n",
              "    </tr>\n",
              "    <tr>\n",
              "      <th>78</th>\n",
              "      <td>Young Guns (1988)</td>\n",
              "      <td>Young Guns II (1990)</td>\n",
              "      <td>0.106307</td>\n",
              "      <td>0.410131</td>\n",
              "      <td>3.604069</td>\n",
              "    </tr>\n",
              "  </tbody>\n",
              "</table>\n",
              "<p>79 rows × 5 columns</p>\n",
              "</div>"
            ],
            "text/plain": [
              "                            Left Hand Side  ...      Lift\n",
              "0        Ace Ventura: Pet Detective (1994)  ...  3.225981\n",
              "1        Ace Ventura: Pet Detective (1994)  ...  3.235527\n",
              "2        Ace Ventura: Pet Detective (1994)  ...  3.033623\n",
              "3        Ace Ventura: Pet Detective (1994)  ...  3.051715\n",
              "4              Addams Family Values (1993)  ...  3.085576\n",
              "..                                     ...  ...       ...\n",
              "74  Star Trek V: The Final Frontier (1989)  ...  3.352205\n",
              "75               Three Colors: Blue (1993)  ...  5.001916\n",
              "76               Three Colors: Blue (1993)  ...  5.395987\n",
              "77                Three Colors: Red (1994)  ...  4.967737\n",
              "78                       Young Guns (1988)  ...  3.604069\n",
              "\n",
              "[79 rows x 5 columns]"
            ]
          },
          "metadata": {
            "tags": []
          },
          "execution_count": 104
        }
      ]
    },
    {
      "cell_type": "code",
      "metadata": {
        "id": "1n8cNeLvK_2g",
        "colab_type": "code",
        "colab": {
          "base_uri": "https://localhost:8080/",
          "height": 359
        },
        "outputId": "a8ee2e4b-276d-48eb-845c-081370d85a4a"
      },
      "source": [
        "resultsinDataFrame.nlargest(n = 10, columns = 'Lift')"
      ],
      "execution_count": 105,
      "outputs": [
        {
          "output_type": "execute_result",
          "data": {
            "text/html": [
              "<div>\n",
              "<style scoped>\n",
              "    .dataframe tbody tr th:only-of-type {\n",
              "        vertical-align: middle;\n",
              "    }\n",
              "\n",
              "    .dataframe tbody tr th {\n",
              "        vertical-align: top;\n",
              "    }\n",
              "\n",
              "    .dataframe thead th {\n",
              "        text-align: right;\n",
              "    }\n",
              "</style>\n",
              "<table border=\"1\" class=\"dataframe\">\n",
              "  <thead>\n",
              "    <tr style=\"text-align: right;\">\n",
              "      <th></th>\n",
              "      <th>Left Hand Side</th>\n",
              "      <th>Right Hand Side</th>\n",
              "      <th>Support</th>\n",
              "      <th>Confidence</th>\n",
              "      <th>Lift</th>\n",
              "    </tr>\n",
              "  </thead>\n",
              "  <tbody>\n",
              "    <tr>\n",
              "      <th>76</th>\n",
              "      <td>Three Colors: Blue (1993)</td>\n",
              "      <td>Three Colors: White (1994)</td>\n",
              "      <td>0.113197</td>\n",
              "      <td>0.786657</td>\n",
              "      <td>5.395987</td>\n",
              "    </tr>\n",
              "    <tr>\n",
              "      <th>75</th>\n",
              "      <td>Three Colors: Blue (1993)</td>\n",
              "      <td>Three Colors: Red (1994)</td>\n",
              "      <td>0.128796</td>\n",
              "      <td>0.895066</td>\n",
              "      <td>5.001916</td>\n",
              "    </tr>\n",
              "    <tr>\n",
              "      <th>77</th>\n",
              "      <td>Three Colors: Red (1994)</td>\n",
              "      <td>Three Colors: White (1994)</td>\n",
              "      <td>0.129596</td>\n",
              "      <td>0.724225</td>\n",
              "      <td>4.967737</td>\n",
              "    </tr>\n",
              "    <tr>\n",
              "      <th>53</th>\n",
              "      <td>Grand Day Out, A (1992)</td>\n",
              "      <td>Wrong Trousers, The (1993)</td>\n",
              "      <td>0.127136</td>\n",
              "      <td>0.945279</td>\n",
              "      <td>4.195771</td>\n",
              "    </tr>\n",
              "    <tr>\n",
              "      <th>32</th>\n",
              "      <td>Close Shave, A (1995)</td>\n",
              "      <td>Grand Day Out, A (1992)</td>\n",
              "      <td>0.102617</td>\n",
              "      <td>0.548682</td>\n",
              "      <td>4.079543</td>\n",
              "    </tr>\n",
              "    <tr>\n",
              "      <th>18</th>\n",
              "      <td>Bananas (1971)</td>\n",
              "      <td>Sleeper (1973)</td>\n",
              "      <td>0.115837</td>\n",
              "      <td>0.788510</td>\n",
              "      <td>4.060839</td>\n",
              "    </tr>\n",
              "    <tr>\n",
              "      <th>65</th>\n",
              "      <td>It Happened One Night (1934)</td>\n",
              "      <td>Treasure of the Sierra Madre, The (1948)</td>\n",
              "      <td>0.107387</td>\n",
              "      <td>0.672659</td>\n",
              "      <td>3.867306</td>\n",
              "    </tr>\n",
              "    <tr>\n",
              "      <th>58</th>\n",
              "      <td>High Noon (1952)</td>\n",
              "      <td>Treasure of the Sierra Madre, The (1948)</td>\n",
              "      <td>0.120886</td>\n",
              "      <td>0.655479</td>\n",
              "      <td>3.768533</td>\n",
              "    </tr>\n",
              "    <tr>\n",
              "      <th>14</th>\n",
              "      <td>Apt Pupil (1998)</td>\n",
              "      <td>As Good As It Gets (1997)</td>\n",
              "      <td>0.147416</td>\n",
              "      <td>0.681806</td>\n",
              "      <td>3.758274</td>\n",
              "    </tr>\n",
              "    <tr>\n",
              "      <th>36</th>\n",
              "      <td>Demolition Man (1993)</td>\n",
              "      <td>Hard Target (1993)</td>\n",
              "      <td>0.105057</td>\n",
              "      <td>0.425861</td>\n",
              "      <td>3.639950</td>\n",
              "    </tr>\n",
              "  </tbody>\n",
              "</table>\n",
              "</div>"
            ],
            "text/plain": [
              "                  Left Hand Side  ...      Lift\n",
              "76     Three Colors: Blue (1993)  ...  5.395987\n",
              "75     Three Colors: Blue (1993)  ...  5.001916\n",
              "77      Three Colors: Red (1994)  ...  4.967737\n",
              "53       Grand Day Out, A (1992)  ...  4.195771\n",
              "32         Close Shave, A (1995)  ...  4.079543\n",
              "18                Bananas (1971)  ...  4.060839\n",
              "65  It Happened One Night (1934)  ...  3.867306\n",
              "58              High Noon (1952)  ...  3.768533\n",
              "14              Apt Pupil (1998)  ...  3.758274\n",
              "36         Demolition Man (1993)  ...  3.639950\n",
              "\n",
              "[10 rows x 5 columns]"
            ]
          },
          "metadata": {
            "tags": []
          },
          "execution_count": 105
        }
      ]
    }
  ]
}